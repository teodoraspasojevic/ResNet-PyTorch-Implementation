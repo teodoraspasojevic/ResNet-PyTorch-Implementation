{
  "nbformat": 4,
  "nbformat_minor": 0,
  "metadata": {
    "colab": {
      "provenance": [],
      "gpuType": "T4",
      "authorship_tag": "ABX9TyOMBNFPbuJI+6ipaPLW+HWv",
      "include_colab_link": true
    },
    "kernelspec": {
      "name": "python3",
      "display_name": "Python 3"
    },
    "language_info": {
      "name": "python"
    },
    "accelerator": "GPU"
  },
  "cells": [
    {
      "cell_type": "markdown",
      "metadata": {
        "id": "view-in-github",
        "colab_type": "text"
      },
      "source": [
        "<a href=\"https://colab.research.google.com/github/teodoraspasojevic/ResNet-PyTorch-Implementation/blob/main/train_model.ipynb\" target=\"_parent\"><img src=\"https://colab.research.google.com/assets/colab-badge.svg\" alt=\"Open In Colab\"/></a>"
      ]
    },
    {
      "cell_type": "code",
      "execution_count": 3,
      "metadata": {
        "colab": {
          "base_uri": "https://localhost:8080/"
        },
        "id": "q4c9EiTyuJve",
        "outputId": "d3916658-72a4-449b-d885-29b83e0bdad9"
      },
      "outputs": [
        {
          "output_type": "stream",
          "name": "stdout",
          "text": [
            "True\n"
          ]
        }
      ],
      "source": [
        "import torch\n",
        "print(torch.cuda.is_available())"
      ]
    },
    {
      "cell_type": "code",
      "source": [
        "!git clone https://github.com/teodoraspasojevic/ResNet-PyTorch-Implementation.git"
      ],
      "metadata": {
        "colab": {
          "base_uri": "https://localhost:8080/"
        },
        "id": "LYyyAio0uS40",
        "outputId": "5325a8b4-45ac-48b5-efd7-d24831e7361d"
      },
      "execution_count": 4,
      "outputs": [
        {
          "output_type": "stream",
          "name": "stdout",
          "text": [
            "Cloning into 'ResNet-PyTorch-Implementation'...\n",
            "remote: Enumerating objects: 2080, done.\u001b[K\n",
            "remote: Counting objects: 100% (66/66), done.\u001b[K\n",
            "remote: Compressing objects: 100% (34/34), done.\u001b[K\n",
            "remote: Total 2080 (delta 30), reused 66 (delta 30), pack-reused 2014\u001b[K\n",
            "Receiving objects: 100% (2080/2080), 149.98 MiB | 21.39 MiB/s, done.\n",
            "Resolving deltas: 100% (35/35), done.\n"
          ]
        }
      ]
    },
    {
      "cell_type": "code",
      "source": [
        "cd ResNet-PyTorch-Implementation"
      ],
      "metadata": {
        "colab": {
          "base_uri": "https://localhost:8080/"
        },
        "id": "akO-A3GBuW3-",
        "outputId": "1d7c47ce-834a-4245-ef86-545c5a9e0bc1"
      },
      "execution_count": 5,
      "outputs": [
        {
          "output_type": "stream",
          "name": "stdout",
          "text": [
            "/content/ResNet-PyTorch-Implementation\n"
          ]
        }
      ]
    },
    {
      "cell_type": "code",
      "source": [
        "cd src_to_implement"
      ],
      "metadata": {
        "colab": {
          "base_uri": "https://localhost:8080/"
        },
        "id": "9zKvJ1Wtuc8K",
        "outputId": "0f7ff460-edf0-4272-ac13-d33ebb66954e"
      },
      "execution_count": 6,
      "outputs": [
        {
          "output_type": "stream",
          "name": "stdout",
          "text": [
            "/content/ResNet-PyTorch-Implementation/src_to_implement\n"
          ]
        }
      ]
    },
    {
      "cell_type": "code",
      "source": [
        "!python train.py"
      ],
      "metadata": {
        "colab": {
          "base_uri": "https://localhost:8080/"
        },
        "id": "uhwBB48Kue4L",
        "outputId": "6d4b56a9-2a4c-4642-9d66-211a1cc26a3c"
      },
      "execution_count": 9,
      "outputs": [
        {
          "output_type": "stream",
          "name": "stdout",
          "text": [
            "Training Loss: 0.2641463825511164\n",
            "Valid Loss: 0.2641463825511164\n"
          ]
        }
      ]
    },
    {
      "cell_type": "code",
      "source": [],
      "metadata": {
        "id": "f2sBtcAwuhOU"
      },
      "execution_count": null,
      "outputs": []
    }
  ]
}